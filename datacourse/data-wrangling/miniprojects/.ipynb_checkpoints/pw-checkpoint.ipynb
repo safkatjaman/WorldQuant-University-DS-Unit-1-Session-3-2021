{
 "cells": [
  {
   "cell_type": "code",
   "execution_count": 7,
   "metadata": {
    "init_cell": true
   },
   "outputs": [],
   "source": [
    "%logstop\n",
    "%logstart -ortq ~/.logs/pw.py append\n",
    "%matplotlib inline\n",
    "import matplotlib\n",
    "import seaborn as sns\n",
    "sns.set()\n",
    "matplotlib.rcParams['figure.dpi'] = 144"
   ]
  },
  {
   "cell_type": "code",
   "execution_count": 3,
   "metadata": {},
   "outputs": [],
   "source": [
    "from static_grader import grader"
   ]
  },
  {
   "cell_type": "markdown",
   "metadata": {},
   "source": [
    "# PW Miniproject\n",
    "## Introduction\n",
    "\n",
    "The objective of this miniproject is to exercise your ability to use basic Python data structures, define functions, and control program flow. We will be using these concepts to perform some fundamental data wrangling tasks such as joining data sets together, splitting data into groups, and aggregating data into summary statistics.\n",
    "**Please do not use `pandas` or `numpy` to answer these questions.**\n",
    "\n",
    "We will be working with medical data from the British NHS on prescription drugs. Since this is real data, it contains many ambiguities that we will need to confront in our analysis. This is commonplace in data science, and is one of the lessons you will learn in this miniproject."
   ]
  },
  {
   "cell_type": "markdown",
   "metadata": {},
   "source": [
    "## Downloading the data\n",
    "\n",
    "We first need to download the data we'll be using from Amazon S3:"
   ]
  },
  {
   "cell_type": "code",
   "execution_count": 4,
   "metadata": {},
   "outputs": [
    {
     "name": "stderr",
     "output_type": "stream",
     "text": [
      "--2021-11-17 05:32:36--  http://dataincubator-wqu.s3.amazonaws.com/pwdata/201701scripts_sample.json.gz\n",
      "Resolving dataincubator-wqu.s3.amazonaws.com (dataincubator-wqu.s3.amazonaws.com)... 52.216.241.156\n",
      "Connecting to dataincubator-wqu.s3.amazonaws.com (dataincubator-wqu.s3.amazonaws.com)|52.216.241.156|:80... connected.\n",
      "HTTP request sent, awaiting response... 200 OK\n",
      "Length: 10367709 (9.9M) [application/json]\n",
      "Saving to: ‘./pw-data/201701scripts_sample.json.gz’\n",
      "\n",
      "     0K .......... .......... .......... .......... ..........  0% 3.41M 3s\n",
      "    50K .......... .......... .......... .......... ..........  0% 6.81M 2s\n",
      "   100K .......... .......... .......... .......... ..........  1% 6.49M 2s\n",
      "   150K .......... .......... .......... .......... ..........  1% 67.1M 1s\n",
      "   200K .......... .......... .......... .......... ..........  2% 8.46M 1s\n",
      "   250K .......... .......... .......... .......... ..........  2% 45.3M 1s\n",
      "   300K .......... .......... .......... .......... ..........  3% 87.1M 1s\n",
      "   350K .......... .......... .......... .......... ..........  3% 76.3M 1s\n",
      "   400K .......... .......... .......... .......... ..........  4% 57.8M 1s\n",
      "   450K .......... .......... .......... .......... ..........  4% 67.9M 1s\n",
      "   500K .......... .......... .......... .......... ..........  5% 11.7M 1s\n",
      "   550K .......... .......... .......... .......... ..........  5% 62.6M 1s\n",
      "   600K .......... .......... .......... .......... ..........  6%  350M 1s\n",
      "   650K .......... .......... .......... .......... ..........  6%  333M 1s\n",
      "   700K .......... .......... .......... .......... ..........  7%  346M 1s\n",
      "   750K .......... .......... .......... .......... ..........  7%  345M 1s\n",
      "   800K .......... .......... .......... .......... ..........  8%  367M 0s\n",
      "   850K .......... .......... .......... .......... ..........  8%  321M 0s\n",
      "   900K .......... .......... .......... .......... ..........  9%  283M 0s\n",
      "   950K .......... .......... .......... .......... ..........  9%  210M 0s\n",
      "  1000K .......... .......... .......... .......... .......... 10% 10.0M 0s\n",
      "  1050K .......... .......... .......... .......... .......... 10% 35.7M 0s\n",
      "  1100K .......... .......... .......... .......... .......... 11% 63.5M 0s\n",
      "  1150K .......... .......... .......... .......... .......... 11% 55.7M 0s\n",
      "  1200K .......... .......... .......... .......... .......... 12% 76.4M 0s\n",
      "  1250K .......... .......... .......... .......... .......... 12% 57.9M 0s\n",
      "  1300K .......... .......... .......... .......... .......... 13% 71.4M 0s\n",
      "  1350K .......... .......... .......... .......... .......... 13% 63.9M 0s\n",
      "  1400K .......... .......... .......... .......... .......... 14% 49.2M 0s\n",
      "  1450K .......... .......... .......... .......... .......... 14% 46.7M 0s\n",
      "  1500K .......... .......... .......... .......... .......... 15% 34.0M 0s\n",
      "  1550K .......... .......... .......... .......... .......... 15% 38.0M 0s\n",
      "  1600K .......... .......... .......... .......... .......... 16% 73.4M 0s\n",
      "  1650K .......... .......... .......... .......... .......... 16% 71.0M 0s\n",
      "  1700K .......... .......... .......... .......... .......... 17% 98.2M 0s\n",
      "  1750K .......... .......... .......... .......... .......... 17%  280M 0s\n",
      "  1800K .......... .......... .......... .......... .......... 18%  322M 0s\n",
      "  1850K .......... .......... .......... .......... .......... 18%  285M 0s\n",
      "  1900K .......... .......... .......... .......... .......... 19%  283M 0s\n",
      "  1950K .......... .......... .......... .......... .......... 19%  245M 0s\n",
      "  2000K .......... .......... .......... .......... .......... 20%  350M 0s\n",
      "  2050K .......... .......... .......... .......... .......... 20%  396M 0s\n",
      "  2100K .......... .......... .......... .......... .......... 21%  216M 0s\n",
      "  2150K .......... .......... .......... .......... .......... 21%  110M 0s\n",
      "  2200K .......... .......... .......... .......... .......... 22%  359M 0s\n",
      "  2250K .......... .......... .......... .......... .......... 22%  353M 0s\n",
      "  2300K .......... .......... .......... .......... .......... 23% 85.4M 0s\n",
      "  2350K .......... .......... .......... .......... .......... 23% 33.5M 0s\n",
      "  2400K .......... .......... .......... .......... .......... 24% 39.9M 0s\n",
      "  2450K .......... .......... .......... .......... .......... 24% 61.4M 0s\n",
      "  2500K .......... .......... .......... .......... .......... 25% 85.4M 0s\n",
      "  2550K .......... .......... .......... .......... .......... 25% 67.0M 0s\n",
      "  2600K .......... .......... .......... .......... .......... 26% 86.4M 0s\n",
      "  2650K .......... .......... .......... .......... .......... 26% 40.4M 0s\n",
      "  2700K .......... .......... .......... .......... .......... 27% 58.0M 0s\n",
      "  2750K .......... .......... .......... .......... .......... 27% 47.3M 0s\n",
      "  2800K .......... .......... .......... .......... .......... 28% 78.0M 0s\n",
      "  2850K .......... .......... .......... .......... .......... 28% 55.6M 0s\n",
      "  2900K .......... .......... .......... .......... .......... 29% 81.2M 0s\n",
      "  2950K .......... .......... .......... .......... .......... 29% 95.4M 0s\n",
      "  3000K .......... .......... .......... .......... .......... 30%  324M 0s\n",
      "  3050K .......... .......... .......... .......... .......... 30%  334M 0s\n",
      "  3100K .......... .......... .......... .......... .......... 31%  378M 0s\n",
      "  3150K .......... .......... .......... .......... .......... 31%  256M 0s\n",
      "  3200K .......... .......... .......... .......... .......... 32%  400M 0s\n",
      "  3250K .......... .......... .......... .......... .......... 32%  398M 0s\n",
      "  3300K .......... .......... .......... .......... .......... 33%  381M 0s\n",
      "  3350K .......... .......... .......... .......... .......... 33%  339M 0s\n",
      "  3400K .......... .......... .......... .......... .......... 34%  327M 0s\n",
      "  3450K .......... .......... .......... .......... .......... 34%  388M 0s\n",
      "  3500K .......... .......... .......... .......... .......... 35%  274M 0s\n",
      "  3550K .......... .......... .......... .......... .......... 35%  125M 0s\n",
      "  3600K .......... .......... .......... .......... .......... 36%  365M 0s\n",
      "  3650K .......... .......... .......... .......... .......... 36%  311M 0s\n",
      "  3700K .......... .......... .......... .......... .......... 37%  305M 0s\n",
      "  3750K .......... .......... .......... .......... .......... 37%  192M 0s\n",
      "  3800K .......... .......... .......... .......... .......... 38%  390M 0s\n",
      "  3850K .......... .......... .......... .......... .......... 38%  399M 0s\n",
      "  3900K .......... .......... .......... .......... .......... 39%  398M 0s\n",
      "  3950K .......... .......... .......... .......... .......... 39%  322M 0s\n",
      "  4000K .......... .......... .......... .......... .......... 40%  402M 0s\n",
      "  4050K .......... .......... .......... .......... .......... 40%  403M 0s\n",
      "  4100K .......... .......... .......... .......... .......... 40%  350M 0s\n",
      "  4150K .......... .......... .......... .......... .......... 41%  326M 0s\n",
      "  4200K .......... .......... .......... .......... .......... 41%  312M 0s\n",
      "  4250K .......... .......... .......... .......... .......... 42%  396M 0s\n",
      "  4300K .......... .......... .......... .......... .......... 42%  405M 0s\n",
      "  4350K .......... .......... .......... .......... .......... 43%  276M 0s\n",
      "  4400K .......... .......... .......... .......... .......... 43%  342M 0s\n",
      "  4450K .......... .......... .......... .......... .......... 44% 66.2M 0s\n",
      "  4500K .......... .......... .......... .......... .......... 44% 72.8M 0s\n",
      "  4550K .......... .......... .......... .......... .......... 45% 73.5M 0s\n",
      "  4600K .......... .......... .......... .......... .......... 45% 78.6M 0s\n",
      "  4650K .......... .......... .......... .......... .......... 46% 85.2M 0s\n",
      "  4700K .......... .......... .......... .......... .......... 46% 82.8M 0s\n",
      "  4750K .......... .......... .......... .......... .......... 47% 74.5M 0s\n",
      "  4800K .......... .......... .......... .......... .......... 47% 83.4M 0s\n",
      "  4850K .......... .......... .......... .......... .......... 48% 86.7M 0s\n",
      "  4900K .......... .......... .......... .......... .......... 48% 80.4M 0s\n",
      "  4950K .......... .......... .......... .......... .......... 49% 54.8M 0s\n",
      "  5000K .......... .......... .......... .......... .......... 49% 83.1M 0s\n",
      "  5050K .......... .......... .......... .......... .......... 50% 75.1M 0s\n",
      "  5100K .......... .......... .......... .......... .......... 50% 63.6M 0s\n",
      "  5150K .......... .......... .......... .......... .......... 51% 75.1M 0s\n",
      "  5200K .......... .......... .......... .......... .......... 51% 68.5M 0s\n",
      "  5250K .......... .......... .......... .......... .......... 52%  110M 0s\n",
      "  5300K .......... .......... .......... .......... .......... 52%  260M 0s\n",
      "  5350K .......... .......... .......... .......... .......... 53%  333M 0s\n",
      "  5400K .......... .......... .......... .......... .......... 53%  401M 0s\n",
      "  5450K .......... .......... .......... .......... .......... 54%  389M 0s\n",
      "  5500K .......... .......... .......... .......... .......... 54%  390M 0s\n",
      "  5550K .......... .......... .......... .......... .......... 55%  326M 0s\n",
      "  5600K .......... .......... .......... .......... .......... 55%  392M 0s\n",
      "  5650K .......... .......... .......... .......... .......... 56%  127M 0s\n",
      "  5700K .......... .......... .......... .......... .......... 56% 78.7M 0s\n",
      "  5750K .......... .......... .......... .......... .......... 57% 76.0M 0s\n",
      "  5800K .......... .......... .......... .......... .......... 57% 68.4M 0s\n",
      "  5850K .......... .......... .......... .......... .......... 58% 88.1M 0s\n",
      "  5900K .......... .......... .......... .......... .......... 58% 89.7M 0s\n",
      "  5950K .......... .......... .......... .......... .......... 59% 79.8M 0s\n",
      "  6000K .......... .......... .......... .......... .......... 59% 82.1M 0s\n",
      "  6050K .......... .......... .......... .......... .......... 60% 81.7M 0s\n",
      "  6100K .......... .......... .......... .......... .......... 60% 71.1M 0s\n",
      "  6150K .......... .......... .......... .......... .......... 61%  136M 0s\n",
      "  6200K .......... .......... .......... .......... .......... 61%  386M 0s\n",
      "  6250K .......... .......... .......... .......... .......... 62%  332M 0s\n",
      "  6300K .......... .......... .......... .......... .......... 62%  396M 0s\n",
      "  6350K .......... .......... .......... .......... .......... 63%  346M 0s\n",
      "  6400K .......... .......... .......... .......... .......... 63%  391M 0s\n",
      "  6450K .......... .......... .......... .......... .......... 64% 27.1M 0s\n",
      "  6500K .......... .......... .......... .......... .......... 64% 44.4M 0s\n",
      "  6550K .......... .......... .......... .......... .......... 65% 48.5M 0s\n",
      "  6600K .......... .......... .......... .......... .......... 65% 33.5M 0s\n",
      "  6650K .......... .......... .......... .......... .......... 66% 77.8M 0s\n",
      "  6700K .......... .......... .......... .......... .......... 66%  357M 0s\n",
      "  6750K .......... .......... .......... .......... .......... 67%  305M 0s\n",
      "  6800K .......... .......... .......... .......... .......... 67%  366M 0s\n",
      "  6850K .......... .......... .......... .......... .......... 68%  401M 0s\n",
      "  6900K .......... .......... .......... .......... .......... 68%  399M 0s\n",
      "  6950K .......... .......... .......... .......... .......... 69%  350M 0s\n",
      "  7000K .......... .......... .......... .......... .......... 69%  381M 0s\n",
      "  7050K .......... .......... .......... .......... .......... 70%  407M 0s\n",
      "  7100K .......... .......... .......... .......... .......... 70%  364M 0s\n",
      "  7150K .......... .......... .......... .......... .......... 71%  292M 0s\n",
      "  7200K .......... .......... .......... .......... .......... 71%  402M 0s\n",
      "  7250K .......... .......... .......... .......... .......... 72%  384M 0s\n",
      "  7300K .......... .......... .......... .......... .......... 72%  379M 0s\n",
      "  7350K .......... .......... .......... .......... .......... 73%  358M 0s\n",
      "  7400K .......... .......... .......... .......... .......... 73%  273M 0s\n",
      "  7450K .......... .......... .......... .......... .......... 74%  352M 0s\n",
      "  7500K .......... .......... .......... .......... .......... 74%  371M 0s\n",
      "  7550K .......... .......... .......... .......... .......... 75%  271M 0s\n",
      "  7600K .......... .......... .......... .......... .......... 75%  407M 0s\n",
      "  7650K .......... .......... .......... .......... .......... 76%  397M 0s\n",
      "  7700K .......... .......... .......... .......... .......... 76%  407M 0s\n",
      "  7750K .......... .......... .......... .......... .......... 77%  336M 0s\n",
      "  7800K .......... .......... .......... .......... .......... 77% 96.6M 0s\n",
      "  7850K .......... .......... .......... .......... .......... 78% 74.6M 0s\n",
      "  7900K .......... .......... .......... .......... .......... 78% 85.2M 0s\n",
      "  7950K .......... .......... .......... .......... .......... 79% 63.9M 0s\n",
      "  8000K .......... .......... .......... .......... .......... 79% 82.5M 0s\n",
      "  8050K .......... .......... .......... .......... .......... 80% 77.4M 0s\n",
      "  8100K .......... .......... .......... .......... .......... 80% 73.3M 0s\n",
      "  8150K .......... .......... .......... .......... .......... 80%  981K 0s\n",
      "  8200K .......... .......... .......... .......... .......... 81% 49.7M 0s\n",
      "  8250K .......... .......... .......... .......... .......... 81% 21.1M 0s\n",
      "  8300K .......... .......... .......... .......... .......... 82% 19.2M 0s\n",
      "  8350K .......... .......... .......... .......... .......... 82% 45.7M 0s\n",
      "  8400K .......... .......... .......... .......... .......... 83% 62.2M 0s\n",
      "  8450K .......... .......... .......... .......... .......... 83%  231M 0s\n",
      "  8500K .......... .......... .......... .......... .......... 84%  320M 0s\n",
      "  8550K .......... .......... .......... .......... .......... 84%  279M 0s\n",
      "  8600K .......... .......... .......... .......... .......... 85%  358M 0s\n",
      "  8650K .......... .......... .......... .......... .......... 85%  254M 0s\n",
      "  8700K .......... .......... .......... .......... .......... 86%  309M 0s\n",
      "  8750K .......... .......... .......... .......... .......... 86% 49.6M 0s\n",
      "  8800K .......... .......... .......... .......... .......... 87% 55.6M 0s\n",
      "  8850K .......... .......... .......... .......... .......... 87% 55.8M 0s\n",
      "  8900K .......... .......... .......... .......... .......... 88% 70.4M 0s\n",
      "  8950K .......... .......... .......... .......... .......... 88% 74.7M 0s\n",
      "  9000K .......... .......... .......... .......... .......... 89% 81.1M 0s\n",
      "  9050K .......... .......... .......... .......... .......... 89% 85.4M 0s\n",
      "  9100K .......... .......... .......... .......... .......... 90%  241M 0s\n",
      "  9150K .......... .......... .......... .......... .......... 90%  326M 0s\n",
      "  9200K .......... .......... .......... .......... .......... 91%  377M 0s\n",
      "  9250K .......... .......... .......... .......... .......... 91%  400M 0s\n",
      "  9300K .......... .......... .......... .......... .......... 92%  390M 0s\n",
      "  9350K .......... .......... .......... .......... .......... 92%  339M 0s\n",
      "  9400K .......... .......... .......... .......... .......... 93%  374M 0s\n",
      "  9450K .......... .......... .......... .......... .......... 93%  374M 0s\n",
      "  9500K .......... .......... .......... .......... .......... 94%  387M 0s\n",
      "  9550K .......... .......... .......... .......... .......... 94%  241M 0s\n",
      "  9600K .......... .......... .......... .......... .......... 95%  373M 0s\n",
      "  9650K .......... .......... .......... .......... .......... 95%  363M 0s\n",
      "  9700K .......... .......... .......... .......... .......... 96%  376M 0s\n",
      "  9750K .......... .......... .......... .......... .......... 96%  335M 0s\n",
      "  9800K .......... .......... .......... .......... .......... 97%  323M 0s\n",
      "  9850K .......... .......... .......... .......... .......... 97%  386M 0s\n",
      "  9900K .......... .......... .......... .......... .......... 98%  296M 0s\n",
      "  9950K .......... .......... .......... .......... .......... 98%  290M 0s\n",
      " 10000K .......... .......... .......... .......... .......... 99%  395M 0s\n",
      " 10050K .......... .......... .......... .......... .......... 99%  107M 0s\n",
      " 10100K .......... .......... ....                            100% 77.7M=0.2s\n",
      "\n",
      "2021-11-17 05:32:36 (54.4 MB/s) - ‘./pw-data/201701scripts_sample.json.gz’ saved [10367709/10367709]\n",
      "\n",
      "--2021-11-17 05:32:36--  http://dataincubator-wqu.s3.amazonaws.com/pwdata/practices.json.gz\n",
      "Resolving dataincubator-wqu.s3.amazonaws.com (dataincubator-wqu.s3.amazonaws.com)... 52.216.241.156\n",
      "Connecting to dataincubator-wqu.s3.amazonaws.com (dataincubator-wqu.s3.amazonaws.com)|52.216.241.156|:80... connected.\n",
      "HTTP request sent, awaiting response... 200 OK\n",
      "Length: 402461 (393K) [application/json]\n",
      "Saving to: ‘./pw-data/practices.json.gz’\n",
      "\n",
      "     0K .......... .......... .......... .......... .......... 12% 3.33M 0s\n",
      "    50K .......... .......... .......... .......... .......... 25% 6.60M 0s\n",
      "   100K .......... .......... .......... .......... .......... 38% 6.30M 0s\n",
      "   150K .......... .......... .......... .......... .......... 50% 58.0M 0s\n",
      "   200K .......... .......... .......... .......... .......... 63% 8.28M 0s\n",
      "   250K .......... .......... .......... .......... .......... 76% 68.6M 0s\n",
      "   300K .......... .......... .......... .......... .......... 89% 62.6M 0s\n",
      "   350K .......... .......... .......... .......... ...       100% 51.9M=0.04s\n",
      "\n",
      "2021-11-17 05:32:36 (9.88 MB/s) - ‘./pw-data/practices.json.gz’ saved [402461/402461]\n",
      "\n"
     ]
    }
   ],
   "source": [
    "%%bash\n",
    "mkdir pw-data\n",
    "wget http://dataincubator-wqu.s3.amazonaws.com/pwdata/201701scripts_sample.json.gz -nc -P ./pw-data\n",
    "wget http://dataincubator-wqu.s3.amazonaws.com/pwdata/practices.json.gz -nc -P ./pw-data"
   ]
  },
  {
   "cell_type": "markdown",
   "metadata": {},
   "source": [
    "## Loading the data\n",
    "\n",
    "The first step of the project is to read in the data. We will discuss reading and writing various kinds of files later in the course, but the code below should get you started."
   ]
  },
  {
   "cell_type": "code",
   "execution_count": 8,
   "metadata": {},
   "outputs": [],
   "source": [
    "import gzip\n",
    "import simplejson as json"
   ]
  },
  {
   "cell_type": "code",
   "execution_count": 9,
   "metadata": {},
   "outputs": [],
   "source": [
    "with gzip.open('./pw-data/201701scripts_sample.json.gz', 'rb') as f:\n",
    "    scripts = json.load(f)\n",
    "\n",
    "with gzip.open('./pw-data/practices.json.gz', 'rb') as f:\n",
    "    practices = json.load(f)"
   ]
  },
  {
   "cell_type": "markdown",
   "metadata": {},
   "source": [
    "This data set comes from Britain's National Health Service. The `scripts` variable is a list of prescriptions issued by NHS doctors. Each prescription is represented by a dictionary with various data fields: `'practice'`, `'bnf_code'`, `'bnf_name'`, `'quantity'`, `'items'`, `'nic'`, and `'act_cost'`. "
   ]
  },
  {
   "cell_type": "code",
   "execution_count": 10,
   "metadata": {},
   "outputs": [
    {
     "data": {
      "text/plain": [
       "[{'bnf_code': '0101010G0AAABAB',\n",
       "  'items': 2,\n",
       "  'practice': 'N81013',\n",
       "  'bnf_name': 'Co-Magaldrox_Susp 195mg/220mg/5ml S/F',\n",
       "  'nic': 5.98,\n",
       "  'act_cost': 5.56,\n",
       "  'quantity': 1000},\n",
       " {'bnf_code': '0101021B0AAAHAH',\n",
       "  'items': 1,\n",
       "  'practice': 'N81013',\n",
       "  'bnf_name': 'Alginate_Raft-Forming Oral Susp S/F',\n",
       "  'nic': 1.95,\n",
       "  'act_cost': 1.82,\n",
       "  'quantity': 500}]"
      ]
     },
     "execution_count": 10,
     "metadata": {},
     "output_type": "execute_result"
    }
   ],
   "source": [
    "scripts[:2]"
   ]
  },
  {
   "cell_type": "markdown",
   "metadata": {},
   "source": [
    "A [glossary of terms](http://webarchive.nationalarchives.gov.uk/20180328130852tf_/http://content.digital.nhs.uk/media/10686/Download-glossary-of-terms-for-GP-prescribing---presentation-level/pdf/PLP_Presentation_Level_Glossary_April_2015.pdf/) and [FAQ](http://webarchive.nationalarchives.gov.uk/20180328130852tf_/http://content.digital.nhs.uk/media/10048/FAQs-Practice-Level-Prescribingpdf/pdf/PLP_FAQs_April_2015.pdf/) is available from the NHS regarding the data. Below we supply a data dictionary briefly describing what these fields mean.\n",
    "\n",
    "| Data field |Description|\n",
    "|:----------:|-----------|\n",
    "|`'practice'`|Code designating the medical practice issuing the prescription|\n",
    "|`'bnf_code'`|British National Formulary drug code|\n",
    "|`'bnf_name'`|British National Formulary drug name|\n",
    "|`'quantity'`|Number of capsules/quantity of liquid/grams of powder prescribed|\n",
    "| `'items'`  |Number of refills (e.g. if `'quantity'` is 30 capsules, 3 `'items'` means 3 bottles of 30 capsules)|\n",
    "|  `'nic'`   |Net ingredient cost|\n",
    "|`'act_cost'`|Total cost including containers, fees, and discounts|"
   ]
  },
  {
   "cell_type": "markdown",
   "metadata": {},
   "source": [
    "The `practices` variable is a list of member medical practices of the NHS. Each practice is represented by a dictionary containing identifying information for the medical practice. Most of the data fields are self-explanatory. Notice the values in the `'code'` field of `practices` match the values in the `'practice'` field of `scripts`."
   ]
  },
  {
   "cell_type": "code",
   "execution_count": 11,
   "metadata": {},
   "outputs": [
    {
     "data": {
      "text/plain": [
       "{'code': 'A81001',\n",
       " 'name': 'THE DENSHAM SURGERY',\n",
       " 'addr_1': 'THE HEALTH CENTRE',\n",
       " 'addr_2': 'LAWSON STREET',\n",
       " 'borough': 'STOCKTON ON TEES',\n",
       " 'village': 'CLEVELAND',\n",
       " 'post_code': 'TS18 1HU'}"
      ]
     },
     "execution_count": 11,
     "metadata": {},
     "output_type": "execute_result"
    }
   ],
   "source": [
    "practices[0]"
   ]
  },
  {
   "cell_type": "markdown",
   "metadata": {},
   "source": [
    "In the following questions we will ask you to explore this data set. You may need to combine pieces of the data set together in order to answer some questions. Not every element of the data set will be used in answering the questions."
   ]
  },
  {
   "cell_type": "markdown",
   "metadata": {},
   "source": [
    "## Question 1: summary_statistics\n",
    "\n",
    "Our beneficiary data (`scripts`) contains quantitative data on the number of items dispensed (`'items'`), the total quantity of item dispensed (`'quantity'`), the net cost of the ingredients (`'nic'`), and the actual cost to the patient (`'act_cost'`). Whenever working with a new data set, it can be useful to calculate summary statistics to develop a feeling for the volume and character of the data. This makes it easier to spot trends and significant features during further stages of analysis.\n",
    "\n",
    "Calculate the sum, mean, standard deviation, and quartile statistics for each of these quantities. Format your results for each quantity as a list: `[sum, mean, standard deviation, 1st quartile, median, 3rd quartile]`. We'll create a `tuple` with these lists for each quantity as a final result."
   ]
  },
  {
   "cell_type": "code",
   "execution_count": 12,
   "metadata": {},
   "outputs": [
    {
     "data": {
      "text/plain": [
       "382726"
      ]
     },
     "execution_count": 12,
     "metadata": {},
     "output_type": "execute_result"
    }
   ],
   "source": [
    "len(scripts)"
   ]
  },
  {
   "cell_type": "code",
   "execution_count": 13,
   "metadata": {},
   "outputs": [],
   "source": [
    "from statistics import *\n",
    "\n",
    "def describe(key):\n",
    "    list_ = []\n",
    "    if key == 'items' or key == 'quantity' or key == 'nic' or key == 'act_cost':\n",
    "        for item in scripts:\n",
    "            list_.append(item[key])\n",
    "        l = sorted(list_)\n",
    "    else:\n",
    "        return 'Error!'\n",
    "    \n",
    "    total = sum(list_)\n",
    "    med = median(l)\n",
    "    avg = mean(l)\n",
    "    s = stdev(l)\n",
    "    \n",
    "    mid = len(l) // 2\n",
    "        \n",
    "    if (len(l) % 2 == 0):\n",
    "   # even\n",
    "       q25 = median(l[:mid])\n",
    "       q75 = median(l[mid:])\n",
    "    else:\n",
    "   # odd\n",
    "       q25 = median(l[:mid])\n",
    "       q75 = median(l[mid+1:])\n",
    "\n",
    "    return (total, avg, s, q25, med, q75)"
   ]
  },
  {
   "cell_type": "code",
   "execution_count": 14,
   "metadata": {},
   "outputs": [],
   "source": [
    "summary = [('items', describe('items')),\n",
    "           ('quantity', describe('quantity')),\n",
    "           ('nic', describe('nic')),\n",
    "           ('act_cost', describe('act_cost'))]"
   ]
  },
  {
   "cell_type": "code",
   "execution_count": 15,
   "metadata": {},
   "outputs": [
    {
     "name": "stdout",
     "output_type": "stream",
     "text": [
      "==================\n",
      "Your score: 1.000\n",
      "==================\n"
     ]
    }
   ],
   "source": [
    "grader.score.pw__summary_statistics(summary)"
   ]
  },
  {
   "cell_type": "markdown",
   "metadata": {},
   "source": [
    "## Question 2: most_common_item\n",
    "\n",
    "Often we are not interested only in how the data is distributed in our entire data set, but within particular groups -- for example, how many items of each drug (i.e. `'bnf_name'`) were prescribed? Calculate the total items prescribed for each `'bnf_name'`. What is the most commonly prescribed `'bnf_name'` in our data?\n",
    "\n",
    "To calculate this, we first need to split our data set into groups corresponding with the different values of `'bnf_name'`. Then we can sum the number of items dispensed within in each group. Finally we can find the largest sum.\n",
    "\n",
    "We'll use `'bnf_name'` to construct our groups. You should have *5619* unique values for `'bnf_name'`."
   ]
  },
  {
   "cell_type": "code",
   "execution_count": 16,
   "metadata": {},
   "outputs": [
    {
     "data": {
      "text/plain": [
       "[{'bnf_code': '0101010G0AAABAB',\n",
       "  'items': 2,\n",
       "  'practice': 'N81013',\n",
       "  'bnf_name': 'Co-Magaldrox_Susp 195mg/220mg/5ml S/F',\n",
       "  'nic': 5.98,\n",
       "  'act_cost': 5.56,\n",
       "  'quantity': 1000},\n",
       " {'bnf_code': '0101021B0AAAHAH',\n",
       "  'items': 1,\n",
       "  'practice': 'N81013',\n",
       "  'bnf_name': 'Alginate_Raft-Forming Oral Susp S/F',\n",
       "  'nic': 1.95,\n",
       "  'act_cost': 1.82,\n",
       "  'quantity': 500}]"
      ]
     },
     "execution_count": 16,
     "metadata": {},
     "output_type": "execute_result"
    }
   ],
   "source": [
    "scripts[:2]"
   ]
  },
  {
   "cell_type": "code",
   "execution_count": 17,
   "metadata": {},
   "outputs": [],
   "source": [
    "bnf_names = {item['bnf_name'] for item in scripts}\n",
    "assert(len(bnf_names) == 5619)"
   ]
  },
  {
   "cell_type": "markdown",
   "metadata": {},
   "source": [
    "We want to construct \"groups\" identified by `'bnf_name'`, where each group is a collection of prescriptions (i.e. dictionaries from `scripts`). We'll construct a dictionary called `groups`, using `bnf_names` as the keys. We'll represent a group with a `list`, since we can easily append new members to the group. To split our `scripts` into groups by `'bnf_name'`, we should iterate over `scripts`, appending prescription dictionaries to each group as we encounter them."
   ]
  },
  {
   "cell_type": "code",
   "execution_count": 18,
   "metadata": {},
   "outputs": [],
   "source": [
    "groups = {name: [] for name in bnf_names}\n",
    "for script in scripts:\n",
    "    groups[script['bnf_name']].append(script['items'])"
   ]
  },
  {
   "cell_type": "markdown",
   "metadata": {},
   "source": [
    "Now that we've constructed our groups we should sum up `'items'` in each group and find the `'bnf_name'` with the largest sum. The result, `max_item`, should have the form `[(bnf_name, item total)]`, e.g. `[('Foobar', 2000)]`."
   ]
  },
  {
   "cell_type": "code",
   "execution_count": 19,
   "metadata": {},
   "outputs": [],
   "source": [
    "l_sum = []\n",
    "for dic in groups:\n",
    "    l_sum.append(sum(groups[dic]))\n",
    "#print(l_sum)\n",
    "max_item = [(dic, max(l_sum)) for dic in groups if sum(groups[dic]) == max(l_sum)]"
   ]
  },
  {
   "cell_type": "markdown",
   "metadata": {},
   "source": [
    "**TIP:** If you are getting an error from the grader below, please make sure your answer conforms to the correct format of `[(bnf_name, item total)]`."
   ]
  },
  {
   "cell_type": "code",
   "execution_count": 20,
   "metadata": {},
   "outputs": [
    {
     "name": "stdout",
     "output_type": "stream",
     "text": [
      "==================\n",
      "Your score: 1.000\n",
      "==================\n"
     ]
    }
   ],
   "source": [
    "grader.score.pw__most_common_item(max_item)"
   ]
  },
  {
   "cell_type": "markdown",
   "metadata": {},
   "source": [
    "**Challenge:** Write a function that constructs groups as we did above. The function should accept a list of dictionaries (e.g. `scripts` or `practices`) and a tuple of fields to `groupby` (e.g. `('bnf_name',)` or `('bnf_name', 'post_code')`) and returns a dictionary of groups. The following questions will require you to aggregate data in groups, so this could be a useful function for the rest of the miniproject."
   ]
  },
  {
   "cell_type": "code",
   "execution_count": 21,
   "metadata": {},
   "outputs": [],
   "source": [
    "def group_by_field(data, fields):\n",
    "    names = {tuple(item[field] for field in fields) for item in data}\n",
    "    groups = {name: [] for name in names}\n",
    "    for item in data:\n",
    "        name = tuple(item[field] for field in fields) \n",
    "        groups[name].append(item)\n",
    "    return groups"
   ]
  },
  {
   "cell_type": "markdown",
   "metadata": {},
   "source": [
    "## Question 3: postal_totals\n",
    "\n",
    "Our data set is broken up among different files. This is typical for tabular data to reduce redundancy. Each table typically contains data about a particular type of event, processes, or physical object. Data on prescriptions and medical practices are in separate files in our case. If we want to find the total items prescribed in each postal code, we will have to _join_ our prescription data (`scripts`) to our clinic data (`practices`).\n",
    "\n",
    "Find the total items prescribed in each postal code, representing the results as a list of tuples `(post code, total items prescribed)`. Sort your results ascending alphabetically by post code and take only results from the first 100 post codes. Only include post codes if there is at least one prescription from a practice in that post code.\n",
    "\n",
    "**NOTE:** Some practices have multiple postal codes associated with them. Use the alphabetically first postal code."
   ]
  },
  {
   "cell_type": "code",
   "execution_count": 22,
   "metadata": {},
   "outputs": [
    {
     "data": {
      "text/plain": [
       "[{'bnf_code': '0101010G0AAABAB',\n",
       "  'items': 2,\n",
       "  'practice': 'N81013',\n",
       "  'bnf_name': 'Co-Magaldrox_Susp 195mg/220mg/5ml S/F',\n",
       "  'nic': 5.98,\n",
       "  'act_cost': 5.56,\n",
       "  'quantity': 1000},\n",
       " {'bnf_code': '0101021B0AAAHAH',\n",
       "  'items': 1,\n",
       "  'practice': 'N81013',\n",
       "  'bnf_name': 'Alginate_Raft-Forming Oral Susp S/F',\n",
       "  'nic': 1.95,\n",
       "  'act_cost': 1.82,\n",
       "  'quantity': 500}]"
      ]
     },
     "execution_count": 22,
     "metadata": {},
     "output_type": "execute_result"
    }
   ],
   "source": [
    "scripts[:2]"
   ]
  },
  {
   "cell_type": "code",
   "execution_count": 23,
   "metadata": {},
   "outputs": [
    {
     "data": {
      "text/plain": [
       "[{'code': 'A81001',\n",
       "  'name': 'THE DENSHAM SURGERY',\n",
       "  'addr_1': 'THE HEALTH CENTRE',\n",
       "  'addr_2': 'LAWSON STREET',\n",
       "  'borough': 'STOCKTON ON TEES',\n",
       "  'village': 'CLEVELAND',\n",
       "  'post_code': 'TS18 1HU'},\n",
       " {'code': 'A81002',\n",
       "  'name': 'QUEENS PARK MEDICAL CENTRE',\n",
       "  'addr_1': 'QUEENS PARK MEDICAL CTR',\n",
       "  'addr_2': 'FARRER STREET',\n",
       "  'borough': 'STOCKTON ON TEES',\n",
       "  'village': 'CLEVELAND',\n",
       "  'post_code': 'TS18 2AW'}]"
      ]
     },
     "execution_count": 23,
     "metadata": {},
     "output_type": "execute_result"
    }
   ],
   "source": [
    "practices[:2]"
   ]
  },
  {
   "cell_type": "code",
   "execution_count": 24,
   "metadata": {},
   "outputs": [
    {
     "data": {
      "text/plain": [
       "{'code': 'A81001',\n",
       " 'name': 'THE DENSHAM SURGERY',\n",
       " 'addr_1': 'THE HEALTH CENTRE',\n",
       " 'addr_2': 'LAWSON STREET',\n",
       " 'borough': 'STOCKTON ON TEES',\n",
       " 'village': 'CLEVELAND',\n",
       " 'post_code': 'TS18 1HU'}"
      ]
     },
     "execution_count": 24,
     "metadata": {},
     "output_type": "execute_result"
    }
   ],
   "source": [
    "practices[0]"
   ]
  },
  {
   "cell_type": "markdown",
   "metadata": {},
   "source": [
    "We can join `scripts` and `practices` based on the fact that `'practice'` in `scripts` matches `'code'` in `practices`. However, we must first deal with the repeated values of `'code'` in `practices`. We want the alphabetically first postal codes."
   ]
  },
  {
   "cell_type": "code",
   "execution_count": 25,
   "metadata": {},
   "outputs": [],
   "source": [
    "practice_postal = {}\n",
    "for practice in practices:\n",
    "    l=[]\n",
    "    if practice['code'] in practice_postal:\n",
    "        l=[practice['post_code'], practice_postal[practice['code']]]\n",
    "        # print(l)\n",
    "        practice_postal.update({practice['code']: sorted(l)[0]})\n",
    "    else:\n",
    "        practice_postal.update({practice['code']: practice['post_code']})\n",
    "        # print(practice_postal)"
   ]
  },
  {
   "cell_type": "markdown",
   "metadata": {},
   "source": [
    "**Challenge:** This is an aggregation of the practice data grouped by practice codes. Write an alternative implementation of the above cell using the `group_by_field` function you defined previously."
   ]
  },
  {
   "cell_type": "code",
   "execution_count": 26,
   "metadata": {},
   "outputs": [],
   "source": [
    "assert practice_postal['K82019'] == 'HP21 8TR'"
   ]
  },
  {
   "cell_type": "markdown",
   "metadata": {},
   "source": [
    "Now we can join `practice_postal` to `scripts`."
   ]
  },
  {
   "cell_type": "code",
   "execution_count": 27,
   "metadata": {},
   "outputs": [],
   "source": [
    "joined = scripts[:]\n",
    "for script in joined:\n",
    "    k = script['practice']\n",
    "    script['post_code'] = practice_postal[k]"
   ]
  },
  {
   "cell_type": "markdown",
   "metadata": {},
   "source": [
    "Finally we'll group the prescription dictionaries in `joined` by `'post_code'` and sum up the items prescribed in each group, as we did in the previous question."
   ]
  },
  {
   "cell_type": "code",
   "execution_count": 28,
   "metadata": {},
   "outputs": [],
   "source": [
    "data_group={}\n",
    "for script in joined:\n",
    "    data_group.update({script['post_code']:script['items']})\n",
    "grp = {name: [] for name in data_group}\n",
    "for script in joined:\n",
    "    grp[script['post_code']].append(script['items'])\n",
    "items_by_post = [(k,sum(v)) for k,v in grp.items()]"
   ]
  },
  {
   "cell_type": "code",
   "execution_count": 30,
   "metadata": {},
   "outputs": [
    {
     "name": "stdout",
     "output_type": "stream",
     "text": [
      "==================\n",
      "Your score: 1.000\n",
      "==================\n"
     ]
    }
   ],
   "source": [
    "postal_totals = sorted(items_by_post)[0:100]\n",
    "\n",
    "grader.score.pw__postal_totals(postal_totals)"
   ]
  },
  {
   "cell_type": "markdown",
   "metadata": {},
   "source": [
    "## Question 4: items_by_region\n",
    "\n",
    "Now we'll combine the techniques we've developed to answer a more complex question. Find the most commonly dispensed item in each postal code, representing the results as a list of tuples (`post_code`, `bnf_name`, amount dispensed as proportion of total). Sort your results ascending alphabetically by post code and take only results from the first 100 post codes.\n",
    "\n",
    "**NOTE:** We'll continue to use the `joined` variable we created before, where we've chosen the alphabetically first postal code for each practice. Additionally, some postal codes will have multiple `'bnf_name'` with the same number of items prescribed for the maximum. In this case, we'll take the alphabetically first `'bnf_name'`.\n",
    "\n",
    "There are several approaches to solve this problem but we will guide you through one of them. Feel free to solve it your own way if it is easier for you to understand and implement. If your kernel keeps on dying, it's probably an indication that you are running out of memory. Consider deleting objects you don't need anymore using the `del` statement and shutdown any other running notebooks. For example:\n",
    "```Python\n",
    "del some_object_not_needed\n",
    "```"
   ]
  },
  {
   "cell_type": "markdown",
   "metadata": {},
   "source": [
    "The first step is to calculate the total items for each `'post_code'` and `'bnf_name'`. Let's call that result `total_items_by_post_bnf`. Consider what is the best data structure(s) to represent `total_items_by_post_bnf`. It should have 141196 `('post_code', 'bnf_name')` groups."
   ]
  },
  {
   "cell_type": "code",
   "execution_count": 31,
   "metadata": {},
   "outputs": [],
   "source": [
    "items_by_post_name = \\\n",
    "    group_by_field(joined, ('post_code', 'bnf_name')).items()"
   ]
  },
  {
   "cell_type": "code",
   "execution_count": 32,
   "metadata": {},
   "outputs": [],
   "source": [
    "total_items_by_bnf_post = \\\n",
    "    {name: sum([d['items'] for d in group])\n",
    "     for name, group in items_by_post_name}\n",
    "\n",
    "assert len(total_items_by_bnf_post) == 141196\n"
   ]
  },
  {
   "cell_type": "markdown",
   "metadata": {},
   "source": [
    "Next, let's take `total_items_by_post_bnf` and group it by `'post_code'`. In other words, we want a  data structure that maps a `'post_code'` to a list of all records that belong to that `'post_code'`. There should be 118 groups."
   ]
  },
  {
   "cell_type": "code",
   "execution_count": 33,
   "metadata": {},
   "outputs": [],
   "source": [
    "total_items = [{'post_code': post_code,\n",
    "                'bnf_name': bnf_name,\n",
    "                'total': total}\n",
    "                for (post_code, bnf_name), total\n",
    "                in total_items_by_bnf_post.items()]"
   ]
  },
  {
   "cell_type": "code",
   "execution_count": 34,
   "metadata": {},
   "outputs": [
    {
     "data": {
      "text/plain": [
       "[{'post_code': 'WA9 1LN', 'bnf_name': 'Clomipramine HCl_Cap 50mg', 'total': 2},\n",
       " {'post_code': 'M30 0NU', 'bnf_name': 'Ketovite_Tab', 'total': 5}]"
      ]
     },
     "execution_count": 34,
     "metadata": {},
     "output_type": "execute_result"
    }
   ],
   "source": [
    "total_items[0:2]"
   ]
  },
  {
   "cell_type": "markdown",
   "metadata": {},
   "source": [
    "Now with `grouped_post_code`, let's iterate over each group and calculate the following fields for each `'post_code'`:\n",
    "1. the sum of total items for all `'bnf_name'`\n",
    "1. the most total items\n",
    "1. the `'bnf_name'` that had the most total items\n",
    "\n",
    "Once again, consider the best data structure(s) to use to represent the result. It may help to write and use a function when developing your solution."
   ]
  },
  {
   "cell_type": "code",
   "execution_count": 35,
   "metadata": {},
   "outputs": [],
   "source": [
    "from collections import OrderedDict \n",
    "total_items_by_post_1 = group_by_field(total_items, ('post_code',))\n",
    "total_items_by_post = OrderedDict(sorted(total_items_by_post_1.items(), key= lambda x: x[0]))"
   ]
  },
  {
   "cell_type": "code",
   "execution_count": 36,
   "metadata": {},
   "outputs": [],
   "source": [
    "assert len(total_items_by_post) == 118"
   ]
  },
  {
   "cell_type": "markdown",
   "metadata": {},
   "source": [
    "Now, we are ready to:\n",
    "1. calculate the ratio (the amount dispensed as proportion of total)\n",
    "1. [sort](https://docs.python.org/3/howto/sorting.html) alphabetically by the post code\n",
    "1. format the answer as a list of tuples\n",
    "1. take only the first 100 tuples\n",
    "1. submit to the grader"
   ]
  },
  {
   "cell_type": "code",
   "execution_count": 37,
   "metadata": {},
   "outputs": [],
   "source": [
    "max_item_by_post =[\n",
    "    sorted(group, key= lambda d: (-d['total'], d['bnf_name']))[0]\n",
    "    for group in list(total_items_by_post.values())\n",
    "]"
   ]
  },
  {
   "cell_type": "code",
   "execution_count": 38,
   "metadata": {},
   "outputs": [
    {
     "data": {
      "text/plain": [
       "100"
      ]
     },
     "execution_count": 38,
     "metadata": {},
     "output_type": "execute_result"
    }
   ],
   "source": [
    "postal_totals = dict(postal_totals)\n",
    "len(postal_totals)"
   ]
  },
  {
   "cell_type": "code",
   "execution_count": 39,
   "metadata": {},
   "outputs": [],
   "source": [
    "for script in max_item_by_post[0:100]:\n",
    "    post_code = script['post_code']\n",
    "    total = script['total']\n",
    "    script['proportion'] = total / postal_totals[post_code]"
   ]
  },
  {
   "cell_type": "code",
   "execution_count": 40,
   "metadata": {},
   "outputs": [],
   "source": [
    "items_by_region = [(d['post_code'], d['bnf_name'], d['proportion']) for d in max_item_by_post[0:100]]"
   ]
  },
  {
   "cell_type": "code",
   "execution_count": 41,
   "metadata": {},
   "outputs": [],
   "source": [
    "items_by_region = sorted(items_by_region)"
   ]
  },
  {
   "cell_type": "code",
   "execution_count": 42,
   "metadata": {},
   "outputs": [
    {
     "name": "stdout",
     "output_type": "stream",
     "text": [
      "==================\n",
      "Your score: 1.000\n",
      "==================\n"
     ]
    }
   ],
   "source": [
    "grader.score.pw__items_by_region(items_by_region)"
   ]
  },
  {
   "cell_type": "markdown",
   "metadata": {},
   "source": [
    "*Copyright &copy; 2021 WorldQuant University. This content is licensed solely for personal use. Redistribution or publication of this material is strictly prohibited.*"
   ]
  }
 ],
 "metadata": {
  "kernelspec": {
   "display_name": "Python 3",
   "language": "python",
   "name": "python3"
  },
  "language_info": {
   "codemirror_mode": {
    "name": "ipython",
    "version": 3
   },
   "file_extension": ".py",
   "mimetype": "text/x-python",
   "name": "python",
   "nbconvert_exporter": "python",
   "pygments_lexer": "ipython3",
   "version": "3.8.8"
  },
  "nbclean": true
 },
 "nbformat": 4,
 "nbformat_minor": 1
}
